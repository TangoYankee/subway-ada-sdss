{
 "cells": [
  {
   "cell_type": "code",
   "execution_count": 1,
   "metadata": {},
   "outputs": [],
   "source": [
    "import geopandas as gpd"
   ]
  },
  {
   "cell_type": "code",
   "execution_count": 2,
   "metadata": {},
   "outputs": [],
   "source": [
    "# Amenities and demographics\n",
    "BUFFER = 0.005\n",
    "count_factors_files = {\n",
    "    \"schools\": \"schools_20192020.geojson\",\n",
    "    \"parks\": \"parks_2023.geojson\",\n",
    "    \"hospitals\": \"hospitals_2011.geojson\",\n",
    "    \"bus_stops\": \"bus_stops_nyc_nov2020/bus_stops_nyc_nov2020.shp\",\n",
    "    \"bus_stops_express\": \"express_bus_stops_nyc_nov2020\",\n",
    "}"
   ]
  },
  {
   "cell_type": "code",
   "execution_count": 3,
   "metadata": {},
   "outputs": [],
   "source": [
    "stations = gpd.read_file(\"../subway_station_accessibility.geojson\")\n",
    "tracts = gpd.read_file(\"../tract_demographics_acs_2020.geojson\")"
   ]
  },
  {
   "cell_type": "code",
   "execution_count": 4,
   "metadata": {},
   "outputs": [],
   "source": [
    "count_factors_data = {factor: None for factor in count_factors_files.keys()}\n",
    "\n",
    "for factor_name, factor_file in count_factors_files.items():\n",
    "    count_factors_data[factor_name] = gpd.read_file(f\"../{factor_file}\").to_crs(4326)\n",
    "\n",
    "tracts_demos = tracts.drop(columns=[\"GEOID\", \"geometry\"])\n",
    "tract_factors = [factor for factor in tracts_demos]\n",
    "factors = list(count_factors_files.keys()) + tract_factors\n",
    "stations_totals = {factor: [] for factor in factors}\n",
    "for index, station_geometry in enumerate(stations.geometry):\n",
    "    station_buffer = station_geometry.buffer(BUFFER)\n",
    "    for factor, data in count_factors_data.items():\n",
    "        stations_totals[factor].append(\n",
    "            len(data.sindex.query(station_buffer, predicate=\"intersects\"))\n",
    "        )\n",
    "    tracts_in_buffer = tracts.sindex.query(station_buffer, predicate=\"intersects\")\n",
    "    station_tract_totals = {factor: 0 for factor in tract_factors}\n",
    "    for tract_index in tracts_in_buffer:\n",
    "        tract = tracts_demos.iloc[tract_index]\n",
    "        for factor in tract_factors:\n",
    "            station_tract_totals[factor] += int(tract[factor])\n",
    "    for factor, total in station_tract_totals.items():\n",
    "        stations_totals[factor].append(total)\n",
    "\n",
    "for factor, totals in stations_totals.items():\n",
    "    stations[factor] = totals"
   ]
  },
  {
   "cell_type": "code",
   "execution_count": 5,
   "metadata": {},
   "outputs": [],
   "source": [
    "# Station ridership\n",
    "station_ridership = gpd.read_file(\"../subway_stations_2019.geojson\")"
   ]
  },
  {
   "cell_type": "code",
   "execution_count": 6,
   "metadata": {},
   "outputs": [],
   "source": [
    "## Distance at which available ridership data is matched with a station\n",
    "MAX_DISTANCE = 6.4e-4\n",
    "nearest_station_query = station_ridership.sindex.nearest(\n",
    "    geometry=stations.geometry,\n",
    "    return_all=False,\n",
    "    return_distance=True,\n",
    ")"
   ]
  },
  {
   "cell_type": "code",
   "execution_count": 8,
   "metadata": {},
   "outputs": [],
   "source": [
    "nearest_station_indexes = nearest_station_query[0][1]\n",
    "nearest_station_distance = nearest_station_query[1]\n",
    "riderships = [None] * len(nearest_station_indexes)\n",
    "for index, nearest_station_index in enumerate(nearest_station_indexes):\n",
    "    riderships[index] = (\n",
    "        int(station_ridership.loc[nearest_station_index, \"tot2019\"])\n",
    "        if (nearest_station_distance[index] <= MAX_DISTANCE)\n",
    "        else None\n",
    "    )\n",
    "\n",
    "stations[\"ridership_2019\"] = riderships"
   ]
  },
  {
   "cell_type": "code",
   "execution_count": null,
   "metadata": {},
   "outputs": [],
   "source": [
    "stations.to_file(\"subway_stations_500_buffer.geojson\", driver=\"GeoJSON\")"
   ]
  }
 ],
 "metadata": {
  "kernelspec": {
   "display_name": "process-venv",
   "language": "python",
   "name": "python3"
  },
  "language_info": {
   "codemirror_mode": {
    "name": "ipython",
    "version": 3
   },
   "file_extension": ".py",
   "mimetype": "text/x-python",
   "name": "python",
   "nbconvert_exporter": "python",
   "pygments_lexer": "ipython3",
   "version": "3.11.3"
  },
  "orig_nbformat": 4
 },
 "nbformat": 4,
 "nbformat_minor": 2
}
