{
 "cells": [
  {
   "cell_type": "code",
   "execution_count": 1,
   "metadata": {},
   "outputs": [],
   "source": [
    "import pandas as pd"
   ]
  },
  {
   "cell_type": "code",
   "execution_count": 2,
   "metadata": {},
   "outputs": [],
   "source": [
    "stations = pd.read_csv(\"subway_station_accessibility.csv\")"
   ]
  },
  {
   "cell_type": "code",
   "execution_count": 4,
   "metadata": {},
   "outputs": [],
   "source": [
    "complex_ids = stations['complex_id']"
   ]
  },
  {
   "cell_type": "code",
   "execution_count": 30,
   "metadata": {},
   "outputs": [],
   "source": [
    "ltrs = 'abcde'\n",
    "complex_ids_marked = []\n",
    "for complex_id in complex_ids:\n",
    "    num_seen = 0\n",
    "    id_str = str(complex_id) + ltrs[num_seen]\n",
    "    while(id_str in complex_ids_marked and num_seen <= 4):\n",
    "        id_str = id_str[:-1] + ltrs[num_seen]\n",
    "        num_seen += 1\n",
    "    complex_ids_marked.append(id_str)\n",
    "    "
   ]
  },
  {
   "cell_type": "code",
   "execution_count": 32,
   "metadata": {},
   "outputs": [],
   "source": [
    "stations['complex_id'] = complex_ids_marked"
   ]
  },
  {
   "cell_type": "code",
   "execution_count": 34,
   "metadata": {},
   "outputs": [],
   "source": [
    "stations.to_csv(\"subway_stations_marked.csv\")"
   ]
  }
 ],
 "metadata": {
  "kernelspec": {
   "display_name": "process-venv",
   "language": "python",
   "name": "python3"
  },
  "language_info": {
   "codemirror_mode": {
    "name": "ipython",
    "version": 3
   },
   "file_extension": ".py",
   "mimetype": "text/x-python",
   "name": "python",
   "nbconvert_exporter": "python",
   "pygments_lexer": "ipython3",
   "version": "3.11.3"
  },
  "orig_nbformat": 4
 },
 "nbformat": 4,
 "nbformat_minor": 2
}
