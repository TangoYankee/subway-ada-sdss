{
 "cells": [
  {
   "cell_type": "code",
   "execution_count": 1,
   "metadata": {},
   "outputs": [],
   "source": [
    "import geopandas as gpd"
   ]
  },
  {
   "cell_type": "code",
   "execution_count": 13,
   "metadata": {},
   "outputs": [],
   "source": [
    "stations_context = gpd.read_file(\"../subway_stations_500_buffer.geojson\")\n",
    "stations_gaps = gpd.read_file(\"./subway_station_ada_gaps.csv\")\n",
    "stations_centrality = gpd.read_file(\"./subway_station_centrality.csv\")"
   ]
  },
  {
   "cell_type": "code",
   "execution_count": 26,
   "metadata": {},
   "outputs": [],
   "source": [
    "stations_base = stations_context.reindex(\n",
    "    [\n",
    "        \"name\",\n",
    "        \"line\",\n",
    "        \"complex_id\",\n",
    "        \"gtfs_stop_id\",\n",
    "        \"ada_status_code\",\n",
    "        \"ridership_2019\",\n",
    "        \"geometry\",\n",
    "    ],\n",
    "    axis=1,\n",
    ")\n",
    "stations_ada_neighbor_gap = stations_gaps.reindex(\n",
    "    [\"complex_id\", \"nearest_accessible_neighbor\"], axis=1\n",
    ")\n",
    "stations_betweenness_centrality = stations_centrality.reindex(\n",
    "    [\"complex_id\", \"centrality\"], axis=1\n",
    ")"
   ]
  },
  {
   "cell_type": "code",
   "execution_count": 42,
   "metadata": {},
   "outputs": [],
   "source": [
    "stations = stations_base.join(\n",
    "    stations_ada_neighbor_gap.set_index(\"complex_id\"), on=\"complex_id\"\n",
    ")\n",
    "stations = stations.join(\n",
    "    stations_betweenness_centrality.set_index(\"complex_id\"), on=\"complex_id\"\n",
    ")\n",
    "stations = stations.rename(\n",
    "    columns={\n",
    "        \"line\": \"lines\",\n",
    "        \"nearest_accessible_neighbor\": \"ada_neighbor_gap\",\n",
    "        \"centrality\": \"betweenness_centrality\",\n",
    "        \"ridership_2019\": \"ridership\",\n",
    "    }\n",
    ")"
   ]
  },
  {
   "cell_type": "code",
   "execution_count": 44,
   "metadata": {},
   "outputs": [],
   "source": [
    "stations.to_file(\"subway_stations.geojson\", driver=\"GeoJSON\")"
   ]
  }
 ],
 "metadata": {
  "kernelspec": {
   "display_name": "process-venv",
   "language": "python",
   "name": "python3"
  },
  "language_info": {
   "codemirror_mode": {
    "name": "ipython",
    "version": 3
   },
   "file_extension": ".py",
   "mimetype": "text/x-python",
   "name": "python",
   "nbconvert_exporter": "python",
   "pygments_lexer": "ipython3",
   "version": "3.11.3"
  },
  "orig_nbformat": 4
 },
 "nbformat": 4,
 "nbformat_minor": 2
}
